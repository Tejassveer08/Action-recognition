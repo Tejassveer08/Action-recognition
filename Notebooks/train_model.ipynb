{
 "cells": [
  {
   "cell_type": "code",
   "execution_count": null,
   "id": "02611036",
   "metadata": {},
   "outputs": [],
   "source": [
    "import sys\n",
    "sys.path.append('../src')\n",
    "\n",
    "from data.ucf101_dataset import UCF101Dataset\n",
    "from models.model_factory import get_model\n",
    "from train.trainer import train, evaluate\n",
    "from utils.data_utils import load_ucf101_paths\n",
    "\n",
    "import torchvision.transforms as T\n",
    "from torch.utils.data import DataLoader\n"
   ]
  },
  {
   "cell_type": "code",
   "execution_count": null,
   "id": "640e55f6",
   "metadata": {},
   "outputs": [],
   "source": [
    "transform = T.Compose([\n",
    "    T.Resize((128, 128)),\n",
    "    T.CenterCrop(112),\n",
    "    T.ConvertImageDtype(torch.float32),\n",
    "])\n",
    "\n",
    "video_paths, labels = load_ucf101_paths('../ucf101_data')\n",
    "dataset = UCF101Dataset(video_paths, labels, transform=transform)\n",
    "train_loader = DataLoader(dataset, batch_size=4, shuffle=True, num_workers=4)\n"
   ]
  },
  {
   "cell_type": "code",
   "execution_count": null,
   "id": "f670e6a1",
   "metadata": {},
   "outputs": [],
   "source": [
    "model = get_model(\"slowfast\")\n",
    "train(model, train_loader)\n"
   ]
  }
 ],
 "metadata": {
  "kernelspec": {
   "display_name": "Python 3",
   "name": "python3"
  }
 },
 "nbformat": 4,
 "nbformat_minor": 5
}